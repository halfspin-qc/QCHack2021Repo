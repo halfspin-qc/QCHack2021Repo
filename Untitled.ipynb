{
 "cells": [
  {
   "cell_type": "code",
   "execution_count": 1,
   "metadata": {},
   "outputs": [],
   "source": [
    "import numpy as np"
   ]
  },
  {
   "cell_type": "code",
   "execution_count": 2,
   "metadata": {},
   "outputs": [],
   "source": [
    "a=np.array([1,-2,5,6,8,-9])"
   ]
  },
  {
   "cell_type": "code",
   "execution_count": 3,
   "metadata": {},
   "outputs": [
    {
     "data": {
      "text/plain": [
       "-9"
      ]
     },
     "execution_count": 3,
     "metadata": {},
     "output_type": "execute_result"
    }
   ],
   "source": [
    "np.amin(a)"
   ]
  },
  {
   "cell_type": "code",
   "execution_count": 25,
   "metadata": {},
   "outputs": [],
   "source": [
    "import matplotlib.pyplot as plt\n",
    "import sympy as sp\n",
    "import numpy as np\n",
    "from qiskit import *\n",
    "from random import randint\n",
    "\n",
    "\n",
    "def ansatz(ansatzList,theta=3.1415):\n",
    "    q = QuantumRegister(2)\n",
    "    c = ClassicalRegister(2)\n",
    "    circuit = QuantumCircuit(q, c)\n",
    "    for gate in ansatzList:\n",
    "        if gate[0]=='H':\n",
    "            p=int(gate[1])\n",
    "            circuit.h(q[p])\n",
    "        if gate[0]=='C':\n",
    "            p0=int(gate[1])\n",
    "            p1=int(gate[2])\n",
    "            circuit.cx(q[p0], q[p1])\n",
    "        if gate[0]=='R':\n",
    "            p=int(gate[1])\n",
    "            circuit.rx(theta, q[p])\n",
    "        if gate[0]=='Y':\n",
    "            p=int(gate[1])\n",
    "            circuit.y(q[p])\n",
    "        if gate[0]=='Z':\n",
    "            p=int(gate[1])\n",
    "            circuit.z(q[p])\n",
    "        if gate[0]=='X':\n",
    "            p=int(gate[1])\n",
    "            circuit.x(q[p])\n",
    "    circuit.measure(q,c)\n",
    "    return circuit\n",
    "\n",
    "\n",
    "\n",
    "\n",
    "\n",
    "\n",
    "def get_expectation(theta, ansatzList):\n",
    "\n",
    "    circuit = ansatz(theta,ansatzList)\n",
    "    \n",
    "    shots = 10000 \n",
    "    backend = BasicAer.get_backend('qasm_simulator')\n",
    "    job = execute(circuit, backend, shots=shots)\n",
    "    result = job.result()\n",
    "    counts = result.get_counts()\n",
    "        \n",
    "    return counts\n",
    "\n",
    "\n",
    "\n"
   ]
  },
  {
   "cell_type": "code",
   "execution_count": 14,
   "metadata": {},
   "outputs": [
    {
     "data": {
      "text/plain": [
       "{'01': 2556, '10': 2514, '11': 2446, '00': 2484}"
      ]
     },
     "execution_count": 14,
     "metadata": {},
     "output_type": "execute_result"
    }
   ],
   "source": [
    "get_expectation(np.pi/64,['H0','Z0','H1'])"
   ]
  },
  {
   "cell_type": "code",
   "execution_count": 16,
   "metadata": {},
   "outputs": [],
   "source": [
    "from qiskit.visualization import plot_histogram, plot_bloch_multivector\n",
    "\n",
    "plot_histogram(get_expectation(np.pi/64,['H0','Z0','H1'])).savefig('histogram.png')\n"
   ]
  },
  {
   "cell_type": "code",
   "execution_count": 18,
   "metadata": {},
   "outputs": [
    {
     "name": "stdout",
     "output_type": "stream",
     "text": [
      " Volume in drive C is OS\n",
      " Volume Serial Number is A6A4-3F24\n",
      "\n",
      " Directory of C:\\Users\\gerar\\Documents\\GitHub\\QCHack2021Repo\n",
      "\n",
      "04/10/2021  03:59 PM    <DIR>          .\n",
      "04/10/2021  03:59 PM    <DIR>          ..\n",
      "01/30/2021  09:56 AM             3,174 .gitignore\n",
      "04/10/2021  03:27 PM    <DIR>          .ipynb_checkpoints\n",
      "04/10/2021  03:30 PM    <DIR>          .vscode\n",
      "01/30/2021  03:03 PM             6,709 ansatz.PNG\n",
      "01/31/2021  11:06 AM               660 comparison.py\n",
      "04/10/2021  12:48 PM             1,372 currentmatrix.png\n",
      "01/31/2021  10:43 AM               369 game.py\n",
      "04/10/2021  03:27 PM    <DIR>          gifs\n",
      "04/10/2021  03:59 PM             9,391 histogram.png\n",
      "04/10/2021  03:26 PM             2,873 jv.py\n",
      "01/31/2021  11:20 AM            21,687 legacy.py\n",
      "04/10/2021  03:26 PM             1,089 LICENSE\n",
      "01/30/2021  03:00 PM             5,917 logo.png\n",
      "01/31/2021  09:42 AM            17,478 main2.py\n",
      "02/02/2021  06:50 PM            19,436 main_new.py\n",
      "04/10/2021  03:27 PM    <DIR>          profiles\n",
      "04/10/2021  03:26 PM               147 README.md\n",
      "01/30/2021  03:59 PM                73 Test.md\n",
      "04/10/2021  03:58 PM            15,880 Untitled.ipynb\n",
      "04/10/2021  03:34 PM             4,711 vqeCalc.py\n",
      "04/10/2021  03:27 PM    <DIR>          __pycache__\n",
      "              16 File(s)        110,966 bytes\n",
      "               7 Dir(s)  45,315,129,344 bytes free\n"
     ]
    }
   ],
   "source": [
    "!dir"
   ]
  },
  {
   "cell_type": "code",
   "execution_count": 26,
   "metadata": {},
   "outputs": [
    {
     "data": {
      "image/png": "[encoded data removed]",
      "text/plain": [
       "<Figure size 835.249x204.68 with 1 Axes>"
      ]
     },
     "execution_count": 26,
     "metadata": {},
     "output_type": "execute_result"
    }
   ],
   "source": [
    "ansatz(['X0', 'Y0', 'Z0', 'H0', 'C01', 'X1', 'Y1', 'Z1', 'H1', 'C10']).draw('mpl')"
   ]
  },
  {
   "cell_type": "code",
   "execution_count": null,
   "metadata": {},
   "outputs": [],
   "source": []
  }
 ],
 "metadata": {
  "kernelspec": {
   "display_name": "Python 3",
   "language": "python",
   "name": "python3"
  },
  "language_info": {
   "codemirror_mode": {
    "name": "ipython",
    "version": 3
   },
   "file_extension": ".py",
   "mimetype": "text/x-python",
   "name": "python",
   "nbconvert_exporter": "python",
   "pygments_lexer": "ipython3",
   "version": "3.8.5"
  }
 },
 "nbformat": 4,
 "nbformat_minor": 5
}
